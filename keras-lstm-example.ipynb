{
 "cells": [
  {
   "cell_type": "code",
   "execution_count": 1,
   "id": "384c2734",
   "metadata": {},
   "outputs": [],
   "source": [
    "import pandas as pd\n",
    "import matplotlib.pyplot as plt\n",
    "import tensorflow as tf\n",
    "from tensorflow import keras"
   ]
  },
  {
   "cell_type": "code",
   "execution_count": 2,
   "id": "9c492a70",
   "metadata": {},
   "outputs": [],
   "source": [
    "from zipfile import ZipFile\n",
    "import os\n",
    "\n",
    "uri = \"https://storage.googleapis.com/tensorflow/tf-keras-datasets/jena_climate_2009_2016.csv.zip\"\n",
    "zip_path = keras.utils.get_file(origin=uri, fname=\"jena_climate_2009_2016.csv.zip\")\n",
    "zip_file = ZipFile(zip_path)\n",
    "zip_file.extractall()\n",
    "csv_path = \"jena_climate_2009_2016.csv\"\n",
    "\n",
    "df = pd.read_csv(csv_path)"
   ]
  },
  {
   "cell_type": "code",
   "execution_count": 3,
   "id": "45d7dd1c",
   "metadata": {},
   "outputs": [],
   "source": [
    "titles = [\n",
    "    \"Pressure\",\n",
    "    \"Temperature\",\n",
    "    \"Temperature in Kelvin\",\n",
    "    \"Temperature (dew point)\",\n",
    "    \"Relative Humidity\",\n",
    "    \"Saturation vapor pressure\",\n",
    "    \"Vapor pressure\",\n",
    "    \"Vapor pressure deficit\",\n",
    "    \"Specific humidity\",\n",
    "    \"Water vapor concentration\",\n",
    "    \"Airtight\",\n",
    "    \"Wind speed\",\n",
    "    \"Maximum wind speed\",\n",
    "    \"Wind direction in degrees\",\n",
    "]\n",
    "\n",
    "feature_keys = [\n",
    "    \"p (mbar)\",\n",
    "    \"T (degC)\",\n",
    "    \"Tpot (K)\",\n",
    "    \"Tdew (degC)\",\n",
    "    \"rh (%)\",\n",
    "    \"VPmax (mbar)\",\n",
    "    \"VPact (mbar)\",\n",
    "    \"VPdef (mbar)\",\n",
    "    \"sh (g/kg)\",\n",
    "    \"H2OC (mmol/mol)\",\n",
    "    \"rho (g/m**3)\",\n",
    "    \"wv (m/s)\",\n",
    "    \"max. wv (m/s)\",\n",
    "    \"wd (deg)\",\n",
    "]\n",
    "\n",
    "colors = [\n",
    "    \"blue\",\n",
    "    \"orange\",\n",
    "    \"green\",\n",
    "    \"red\",\n",
    "    \"purple\",\n",
    "    \"brown\",\n",
    "    \"pink\",\n",
    "    \"gray\",\n",
    "    \"olive\",\n",
    "    \"cyan\",\n",
    "]\n",
    "\n",
    "date_time_key = \"Date Time\"\n",
    "\n",
    "\n",
    "def show_raw_visualization(data):\n",
    "    time_data = data[date_time_key]\n",
    "    fig, axes = plt.subplots(\n",
    "        nrows=7, ncols=2, figsize=(15, 20), dpi=80, facecolor=\"w\", edgecolor=\"k\"\n",
    "    )\n",
    "    for i in range(len(feature_keys)):\n",
    "        key = feature_keys[i]\n",
    "        c = colors[i % (len(colors))]\n",
    "        t_data = data[key]\n",
    "        t_data.index = time_data\n",
    "        t_data.head()\n",
    "        ax = t_data.plot(\n",
    "            ax=axes[i // 2, i % 2],\n",
    "            color=c,\n",
    "            title=\"{} - {}\".format(titles[i], key),\n",
    "            rot=25,\n",
    "        )\n",
    "        ax.legend([titles[i]])\n",
    "    plt.tight_layout()\n",
    "\n",
    "\n",
    "# show_raw_visualization(df)"
   ]
  },
  {
   "cell_type": "code",
   "execution_count": 28,
   "id": "e92e1af5",
   "metadata": {},
   "outputs": [],
   "source": [
    "# split_fraction = 0.715\n",
    "# train_split = int(split_fraction * int(df.shape[0]))\n",
    "\n",
    "step = 6\n",
    "look_back = 72\n",
    "learning_rate = 0.001\n",
    "batch_size = 256\n",
    "epochs = 10\n",
    "\n",
    "sequence_length = int(look_back / step)\n",
    "\n",
    "# def normalize(data, train_split):\n",
    "#     data_mean = data[:train_split].mean(axis=0)\n",
    "#     data_std = data[:train_split].std(axis=0)\n",
    "#     return (data - data_mean) / data_std\n",
    "\n",
    "def normalize(data):\n",
    "    data_mean = data.mean(axis=0)\n",
    "    data_std = data.std(axis=0)\n",
    "    return (data - data_mean) / data_std"
   ]
  },
  {
   "cell_type": "code",
   "execution_count": 49,
   "id": "a9310add",
   "metadata": {},
   "outputs": [],
   "source": [
    "# Select independent variables\n",
    "feature_index = [1, 4]\n",
    "selected_features = [feature_keys[i] for i in feature_index]\n",
    "features = df[selected_features]\n",
    "features.index = df[date_time_key]\n",
    "features = normalize(features.values)\n",
    "features = pd.DataFrame(features)\n",
    "\n",
    "# Dependent variables\n",
    "selected_labels = feature_keys[8]\n",
    "labels = df[selected_labels]\n",
    "labels.index = df[date_time_key]\n",
    "labels = normalize(labels.values)\n",
    "labels = pd.DataFrame(labels)"
   ]
  },
  {
   "cell_type": "code",
   "execution_count": 50,
   "id": "86ebdf38",
   "metadata": {},
   "outputs": [],
   "source": [
    "# Make a dataset object from the features and labels\n",
    "\n",
    "ds = keras.preprocessing.timeseries_dataset_from_array(\n",
    "    features,\n",
    "    labels,\n",
    "    sequence_length=sequence_length,\n",
    "    sampling_rate=step,\n",
    "    batch_size=batch_size,\n",
    ")\n"
   ]
  },
  {
   "cell_type": "code",
   "execution_count": 51,
   "id": "9d739f4b",
   "metadata": {},
   "outputs": [],
   "source": [
    "# I don't like how the test/train datasets were previously split, \n",
    "# so let's do it differently.\n",
    "\n",
    "# Old way:\n",
    "# train_data = features.loc[0 : train_split - 1]\n",
    "# val_data = features.loc[train_split:]\n",
    "\n",
    "\n",
    "# New way:\n",
    "def is_test(x, y):\n",
    "    return x % 4 == 0\n",
    "\n",
    "def is_train(x, y):\n",
    "    return not is_test(x, y)\n",
    "\n",
    "recover = lambda x,y: y\n",
    "\n",
    "dataset_val = ds.enumerate() \\\n",
    "                    .filter(is_test) \\\n",
    "                    .map(recover)\n",
    "\n",
    "dataset_train = ds.enumerate() \\\n",
    "                    .filter(is_train) \\\n",
    "                    .map(recover)"
   ]
  },
  {
   "cell_type": "code",
   "execution_count": 52,
   "id": "109bf4d1",
   "metadata": {},
   "outputs": [
    {
     "name": "stdout",
     "output_type": "stream",
     "text": [
      "Input shape: (256, 12, 2)\n",
      "Target shape: (256, 1)\n"
     ]
    }
   ],
   "source": [
    "for batch in dataset_train.take(1):\n",
    "    inputs, targets = batch\n",
    "\n",
    "print(\"Input shape:\", inputs.numpy().shape)\n",
    "print(\"Target shape:\", targets.numpy().shape)"
   ]
  },
  {
   "cell_type": "code",
   "execution_count": 53,
   "id": "f7f93e10",
   "metadata": {},
   "outputs": [
    {
     "name": "stdout",
     "output_type": "stream",
     "text": [
      "Model: \"model_4\"\n",
      "_________________________________________________________________\n",
      "Layer (type)                 Output Shape              Param #   \n",
      "=================================================================\n",
      "input_5 (InputLayer)         [(None, 12, 2)]           0         \n",
      "_________________________________________________________________\n",
      "lstm_4 (LSTM)                (None, 32)                4480      \n",
      "_________________________________________________________________\n",
      "dense_4 (Dense)              (None, 1)                 33        \n",
      "=================================================================\n",
      "Total params: 4,513\n",
      "Trainable params: 4,513\n",
      "Non-trainable params: 0\n",
      "_________________________________________________________________\n"
     ]
    }
   ],
   "source": [
    "inputs = keras.layers.Input(shape=(inputs.shape[1], inputs.shape[2]))\n",
    "lstm_out = keras.layers.LSTM(32)(inputs)\n",
    "outputs = keras.layers.Dense(1)(lstm_out)\n",
    "\n",
    "model = keras.Model(inputs=inputs, outputs=outputs)\n",
    "model.compile(optimizer=keras.optimizers.Adam(learning_rate=learning_rate), loss=\"mse\")\n",
    "model.summary()"
   ]
  },
  {
   "cell_type": "code",
   "execution_count": 54,
   "id": "a9ea5b3e",
   "metadata": {},
   "outputs": [
    {
     "name": "stdout",
     "output_type": "stream",
     "text": [
      "Epoch 1/10\n",
      "1232/1232 [==============================] - 24s 19ms/step - loss: 0.1017 - val_loss: 0.0464\n",
      "\n",
      "Epoch 00001: val_loss improved from inf to 0.04637, saving model to model_checkpoint.h5\n",
      "Epoch 2/10\n",
      "1232/1232 [==============================] - 23s 19ms/step - loss: 0.0410 - val_loss: 0.0230\n",
      "\n",
      "Epoch 00002: val_loss improved from 0.04637 to 0.02300, saving model to model_checkpoint.h5\n",
      "Epoch 3/10\n",
      "1232/1232 [==============================] - 23s 19ms/step - loss: 0.0279 - val_loss: 0.0218\n",
      "\n",
      "Epoch 00003: val_loss improved from 0.02300 to 0.02185, saving model to model_checkpoint.h5\n",
      "Epoch 4/10\n",
      "1232/1232 [==============================] - 22s 18ms/step - loss: 0.0232 - val_loss: 0.0160\n",
      "\n",
      "Epoch 00004: val_loss improved from 0.02185 to 0.01597, saving model to model_checkpoint.h5\n",
      "Epoch 5/10\n",
      "1232/1232 [==============================] - 23s 19ms/step - loss: 0.0169 - val_loss: 0.0147\n",
      "\n",
      "Epoch 00005: val_loss improved from 0.01597 to 0.01473, saving model to model_checkpoint.h5\n",
      "Epoch 6/10\n",
      "1232/1232 [==============================] - 23s 19ms/step - loss: 0.0187 - val_loss: 0.0120\n",
      "\n",
      "Epoch 00006: val_loss improved from 0.01473 to 0.01200, saving model to model_checkpoint.h5\n",
      "Epoch 7/10\n",
      "1232/1232 [==============================] - 23s 19ms/step - loss: 0.0086 - val_loss: 0.0200\n",
      "\n",
      "Epoch 00007: val_loss did not improve from 0.01200\n",
      "Epoch 8/10\n",
      "1232/1232 [==============================] - 23s 18ms/step - loss: 0.0111 - val_loss: 0.0082\n",
      "\n",
      "Epoch 00008: val_loss improved from 0.01200 to 0.00818, saving model to model_checkpoint.h5\n",
      "Epoch 9/10\n",
      "1232/1232 [==============================] - 23s 19ms/step - loss: 0.0091 - val_loss: 0.0062\n",
      "\n",
      "Epoch 00009: val_loss improved from 0.00818 to 0.00619, saving model to model_checkpoint.h5\n",
      "Epoch 10/10\n",
      "1232/1232 [==============================] - 22s 18ms/step - loss: 0.0077 - val_loss: 0.0050\n",
      "\n",
      "Epoch 00010: val_loss improved from 0.00619 to 0.00499, saving model to model_checkpoint.h5\n"
     ]
    }
   ],
   "source": [
    "path_checkpoint = \"model_checkpoint.h5\"\n",
    "es_callback = keras.callbacks.EarlyStopping(monitor=\"val_loss\", min_delta=0, patience=5)\n",
    "\n",
    "modelckpt_callback = keras.callbacks.ModelCheckpoint(\n",
    "    monitor=\"val_loss\",\n",
    "    filepath=path_checkpoint,\n",
    "    verbose=1,\n",
    "    save_weights_only=True,\n",
    "    save_best_only=True,\n",
    ")\n",
    "\n",
    "history = model.fit(\n",
    "    dataset_train,\n",
    "    epochs=epochs,\n",
    "    validation_data=dataset_val,\n",
    "    callbacks=[es_callback, modelckpt_callback],\n",
    ")"
   ]
  },
  {
   "cell_type": "code",
   "execution_count": 61,
   "id": "e2a9e345",
   "metadata": {},
   "outputs": [
    {
     "data": {
      "text/plain": [
       "[<matplotlib.lines.Line2D at 0x7fe78c4affa0>]"
      ]
     },
     "execution_count": 61,
     "metadata": {},
     "output_type": "execute_result"
    },
    {
     "data": {
      "image/png": "[encoded data removed]",
      "text/plain": [
       "<Figure size 432x288 with 1 Axes>"
      ]
     },
     "metadata": {
      "needs_background": "light"
     },
     "output_type": "display_data"
    }
   ],
   "source": [
    "plt.subplots()\n",
    "for x, y in dataset_val.take(5):\n",
    "    plt.plot(y,model.predict(x),'ok')\n",
    "plt.plot((-2,0),(-2,0))"
   ]
  },
  {
   "cell_type": "code",
   "execution_count": null,
   "id": "bdf9835f",
   "metadata": {},
   "outputs": [],
   "source": []
  }
 ],
 "metadata": {
  "kernelspec": {
   "display_name": "Python 3",
   "language": "python",
   "name": "python3"
  },
  "language_info": {
   "codemirror_mode": {
    "name": "ipython",
    "version": 3
   },
   "file_extension": ".py",
   "mimetype": "text/x-python",
   "name": "python",
   "nbconvert_exporter": "python",
   "pygments_lexer": "ipython3",
   "version": "3.9.2"
  }
 },
 "nbformat": 4,
 "nbformat_minor": 5
}
