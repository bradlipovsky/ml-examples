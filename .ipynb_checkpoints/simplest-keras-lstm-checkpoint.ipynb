{
 "cells": [
  {
   "cell_type": "code",
   "execution_count": 1,
   "id": "96802d24",
   "metadata": {},
   "outputs": [],
   "source": [
    "from tensorflow.keras.layers import LSTM\n",
    "from tensorflow.keras.layers import Input\n",
    "from tensorflow.keras import Model\n",
    "import numpy as np"
   ]
  },
  {
   "cell_type": "code",
   "execution_count": 8,
   "id": "0e0d7e1d",
   "metadata": {},
   "outputs": [
    {
     "name": "stdout",
     "output_type": "stream",
     "text": [
      "Model: \"functional_5\"\n",
      "_________________________________________________________________\n",
      "Layer (type)                 Output Shape              Param #   \n",
      "=================================================================\n",
      "input_3 (InputLayer)         [(None, 5, 1)]            0         \n",
      "_________________________________________________________________\n",
      "lstm_2 (LSTM)                (None, 1)                 12        \n",
      "=================================================================\n",
      "Total params: 12\n",
      "Trainable params: 12\n",
      "Non-trainable params: 0\n",
      "_________________________________________________________________\n",
      "None\n"
     ]
    }
   ],
   "source": [
    "input_t = Input((5, 1))\n",
    "units = 1 #dimensionality of the output space (Hidden and Cell states)\n",
    "output_t = LSTM(units)(input_t)\n",
    "model = Model(inputs=input_t, outputs=output_t)\n",
    "print(model.summary())\n"
   ]
  },
  {
   "cell_type": "markdown",
   "id": "d6b4d3cc",
   "metadata": {},
   "source": [
    "---\n",
    "LSTM expects input data to be a 3D tensor such that:\n",
    "[batch_size, timesteps, feature]\n",
    "batch_size how many samples in each batch during training and testing\n",
    "timesteps means how many values exist in a sequence. For example in [4, 7, 8, 4] there are 4 timesteps\n",
    "features: how many dimensions are used to represent a data in one time step. For example, if each value in the sequence is one hot encoded with 9 zero and 1 one then feature is 10\n",
    "\n",
    "Example:\n",
    "\n",
    "In raw format:\n",
    "X=[4, 7, 8, 4]\n",
    "\n",
    "In one hot encoded format with 10 dimensions (feature = 10):\n",
    "\n",
    "X=[[0 0 0 0 1 0 0 0 0 0]\n",
    "[0 0 0 0 0 0 0 1 0 0]\n",
    "[0 0 0 0 0 0 0 0 1 0]\n",
    "[0 0 0 0 1 0 0 0 0 0]]\n",
    "---"
   ]
  },
  {
   "cell_type": "markdown",
   "id": "76aa104a",
   "metadata": {},
   "source": [
    "---\n",
    "By default, the output of a RNN layer contains a single vector per sample. \n",
    "This vector is the RNN cell output corresponding to the last timestep, \n",
    "containing information about the entire input sequence. \n",
    "The shape of this output is (batch_size, units) where units corresponds \n",
    "to the units argument passed to the layer's constructor.\n",
    "\n",
    "A RNN layer can also return the entire sequence of outputs for each sample \n",
    "(one vector per timestep per sample), if you set return_sequences=True. \n",
    "The shape of this output is (batch_size, timesteps, units).\n",
    "---"
   ]
  },
  {
   "cell_type": "markdown",
   "id": "99f2c745",
   "metadata": {},
   "source": [
    "# To calculate number of parameters"
   ]
  },
  {
   "cell_type": "markdown",
   "id": "e65ca207",
   "metadata": {},
   "source": [
    "x = the number of features\n",
    "\n",
    "h = size of the hidden layer (number of neurons in hidden layer)\n"
   ]
  },
  {
   "cell_type": "markdown",
   "id": "e1707c36",
   "metadata": {},
   "source": [
    "To calculate, we use the equation\n",
    "\n",
    "W param = h * x\n",
    "\n",
    "U param = h * h\n",
    "\n",
    "Biases Param = h\n",
    "\n",
    "number of parameters = W param + U param + Biases Param"
   ]
  },
  {
   "cell_type": "code",
   "execution_count": 9,
   "id": "fcc1efe6",
   "metadata": {},
   "outputs": [
    {
     "data": {
      "text/plain": [
       "TensorShape([None, 5, 1])"
      ]
     },
     "execution_count": 9,
     "metadata": {},
     "output_type": "execute_result"
    }
   ],
   "source": [
    "input_t.shape"
   ]
  },
  {
   "cell_type": "code",
   "execution_count": 12,
   "id": "d29225c4",
   "metadata": {},
   "outputs": [],
   "source": [
    "# x = input_t.shape[2]\n",
    "# h = units\n",
    "\n",
    "x=2308\n",
    "h=32\n",
    "\n",
    "parameters = 4 * (((x + h) * h) + h)"
   ]
  },
  {
   "cell_type": "code",
   "execution_count": 14,
   "id": "456d3053",
   "metadata": {},
   "outputs": [
    {
     "name": "stdout",
     "output_type": "stream",
     "text": [
      "299681\n"
     ]
    }
   ],
   "source": [
    "print(parameters + 33)"
   ]
  },
  {
   "cell_type": "code",
   "execution_count": 60,
   "id": "90107e6e",
   "metadata": {},
   "outputs": [
    {
     "data": {
      "text/plain": [
       "array([[-0.29205453]], dtype=float32)"
      ]
     },
     "execution_count": 60,
     "metadata": {},
     "output_type": "execute_result"
    }
   ],
   "source": [
    "example_input = np.array([[[1],[2],[3],[4]]])\n",
    "model.predict(example_input)"
   ]
  },
  {
   "cell_type": "markdown",
   "id": "20f72379",
   "metadata": {},
   "source": [
    "Each LSTM gate follows an equation of the form,\n",
    "\n",
    "$i_t = \\sigma(W_i x_t + U_i h_{t-i} + b_i)$\n",
    "\n",
    "References:\n",
    "\n",
    "https://web.archive.org/web/20201109035427/http://deeplearning.net/tutorial/lstm.html\n",
    "https://stackoverflow.com/questions/42861460/how-to-interpret-weights-in-a-lstm-layer-in-keras\n",
    "\n",
    "https://medium.com/deep-learning-with-keras/lstm-understanding-the-number-of-parameters-c4e087575756"
   ]
  },
  {
   "cell_type": "code",
   "execution_count": 61,
   "id": "4abd94ff",
   "metadata": {},
   "outputs": [],
   "source": [
    "W = model.get_weights()[0]\n",
    "U = model.get_weights()[1]\n",
    "b = model.get_weights()[2]"
   ]
  },
  {
   "cell_type": "code",
   "execution_count": 63,
   "id": "8e845c1e",
   "metadata": {},
   "outputs": [
    {
     "name": "stdout",
     "output_type": "stream",
     "text": [
      "W 4  calculated as 4*features*LSTMoutputDimension  4\n",
      "U 4  calculated as 4*LSTMoutputDimension*LSTMoutputDimension  4\n",
      "b 4  calculated as 4*LSTMoutputDimension  4\n",
      "Total Parameter Number: W+ U + b  12\n",
      "Total Parameter Number: 4 × ((x + h) × h +h)  12\n"
     ]
    }
   ],
   "source": [
    "print(\"W\", W.size, ' calculated as 4*features*LSTMoutputDimension ', 4*x*h)\n",
    "print(\"U\", U.size, ' calculated as 4*LSTMoutputDimension*LSTMoutputDimension ', 4*h*h)\n",
    "print(\"b\", b.size , ' calculated as 4*LSTMoutputDimension ', 4*h)\n",
    "print(\"Total Parameter Number: W+ U + b \" , W.size+ U.size + b.size)\n",
    "print(\"Total Parameter Number: 4 × ((x + h) × h +h) \" , 4* ((x+h)*h+h))"
   ]
  },
  {
   "cell_type": "code",
   "execution_count": 64,
   "id": "9b5b062f",
   "metadata": {},
   "outputs": [],
   "source": [
    "W_i = W[:, :units]\n",
    "W_f = W[:, units: units * 2]\n",
    "W_c = W[:, units * 2: units * 3]\n",
    "W_o = W[:, units * 3:]\n",
    "\n",
    "U_i = U[:, :units]\n",
    "U_f = U[:, units: units * 2]\n",
    "U_c = U[:, units * 2: units * 3]\n",
    "U_o = U[:, units * 3:]\n",
    "\n",
    "b_i = b[:units]\n",
    "b_f = b[units: units * 2]\n",
    "b_c = b[units * 2: units * 3]\n",
    "b_o = b[units * 3:]"
   ]
  },
  {
   "cell_type": "code",
   "execution_count": null,
   "id": "fbcad359",
   "metadata": {},
   "outputs": [],
   "source": []
  },
  {
   "cell_type": "code",
   "execution_count": null,
   "id": "c6c5c0cc",
   "metadata": {},
   "outputs": [],
   "source": []
  }
 ],
 "metadata": {
  "kernelspec": {
   "display_name": "Python 3 (ipykernel)",
   "language": "python",
   "name": "python3"
  },
  "language_info": {
   "codemirror_mode": {
    "name": "ipython",
    "version": 3
   },
   "file_extension": ".py",
   "mimetype": "text/x-python",
   "name": "python",
   "nbconvert_exporter": "python",
   "pygments_lexer": "ipython3",
   "version": "3.8.12"
  }
 },
 "nbformat": 4,
 "nbformat_minor": 5
}
